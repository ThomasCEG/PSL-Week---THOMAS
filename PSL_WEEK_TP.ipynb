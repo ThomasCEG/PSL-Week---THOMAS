{
  "nbformat": 4,
  "nbformat_minor": 0,
  "metadata": {
    "colab": {
      "provenance": [],
      "include_colab_link": true
    },
    "kernelspec": {
      "name": "python3",
      "display_name": "Python 3"
    }
  },
  "cells": [
    {
      "cell_type": "markdown",
      "metadata": {
        "id": "view-in-github",
        "colab_type": "text"
      },
      "source": [
        "<a href=\"https://colab.research.google.com/github/ThomasCEG/PSL-Week---THOMAS/blob/main/PSL_WEEK_TP.ipynb\" target=\"_parent\"><img src=\"https://colab.research.google.com/assets/colab-badge.svg\" alt=\"Open In Colab\"/></a>"
      ]
    },
    {
      "cell_type": "markdown",
      "metadata": {
        "id": "Hun9J7XyMFHV"
      },
      "source": [
        "# PSL WEEK - DL\n",
        "\n",
        "*Notebook prepared by Arthur Thomas based on lab work of Mathieu Blondel, November 2022.*\n",
        "\n",
        "\n",
        "*The accompanying slides are available [here](https://www.mblondel.org/teaching/autodiff-2020.pdf).*\n",
        "\n"
      ]
    },
    {
      "cell_type": "markdown",
      "metadata": {
        "id": "5ErUjF4cWbvY"
      },
      "source": [
        "## Automatic differentiation \n",
        "\n",
        "In this first part of the lab work, we are going to implement reverse differentiation (a.k.a. backpropagation) for a feedforward network (that is, the composition of a **sequence** or **chain** of functions)."
      ]
    },
    {
      "cell_type": "markdown",
      "metadata": {
        "id": "07QUeVp4WVWu"
      },
      "source": [
        "\n",
        "### Numerical differentiation utilities\n",
        "\n",
        "In this section, I define utility functions for computing Jacobians, Jacobian-vector products (VJPs), and vector Jacobian products (VJPs). You will need to use them to check the correctness of your implementations."
      ]
    },
    {
      "cell_type": "code",
      "metadata": {
        "id": "CfGldr-HMlWf"
      },
      "source": [
        "import numpy as np\n",
        "\n",
        "def num_jvp(f, x, v, eps=1e-6):\n",
        "  \"\"\"\n",
        "  Args:\n",
        "    f: a function returning an array.\n",
        "    x: an array.\n",
        "    v: an array (same shape as x).\n",
        "\n",
        "  Returns:\n",
        "    numerical_jvp\n",
        "  \"\"\"\n",
        "  if not np.array_equal(x.shape, v.shape):\n",
        "    raise ValueError(\"x and v should have the same shape.\")\n",
        "\n",
        "  return (f(x + eps * v) - f(x - eps * v)) / (2 * eps)\n",
        "\n",
        "def num_jacobian(f, x, eps=1e-6):\n",
        "  \"\"\"\n",
        "  Args:\n",
        "    f: a function returning an array.\n",
        "    x: an array (only 1d and 2d arrays supported).\n",
        "\n",
        "  Returns:\n",
        "    numerical_jacobian\n",
        "  \"\"\"\n",
        "  def e(i):\n",
        "    ret = np.zeros_like(x)\n",
        "    ret[i] = 1\n",
        "    return ret\n",
        "\n",
        "  def E(i, j):\n",
        "    ret = np.zeros_like(x)\n",
        "    ret[i, j] = 1\n",
        "    return ret\n",
        "\n",
        "  if len(x.shape) == 1:\n",
        "    return np.array([num_jvp(f, x, e(i), eps=eps) for i in range(len(x))]).T\n",
        "  elif len(x.shape) == 2:\n",
        "    return np.array([[num_jvp(f, x, E(i, j), eps=eps) \\\n",
        "                     for i in range(x.shape[0])] \\\n",
        "                     for j in range(x.shape[1])]).T\n",
        "  else:\n",
        "    raise NotImplementedError\n",
        "\n",
        "def num_vjp(f, x, u, eps=1e-6):\n",
        "  \"\"\"\n",
        "  Args:\n",
        "    f: a function returning an array.\n",
        "    x: an array (only 1d and 2d arrays supported).\n",
        "\n",
        "  Returns:\n",
        "    numerical_vjp\n",
        "  \"\"\"\n",
        "  J = num_jacobian(f, x, eps=eps)\n",
        "  if len(J.shape) == 2:\n",
        "    return J.T.dot(u)\n",
        "  elif len(J.shape) == 3:\n",
        "    shape = J.shape[1:]\n",
        "    J = J.reshape(J.shape[0], -1)\n",
        "    return u.dot(J).reshape(shape)\n",
        "  else:\n",
        "    raise NotImplementedError\n"
      ],
      "execution_count": null,
      "outputs": []
    },
    {
      "cell_type": "markdown",
      "metadata": {
        "id": "NRgFTOIYMo_5"
      },
      "source": [
        "### Vector Jacobian products (VJPs) for basic primitives\n",
        "\n",
        "In this section, we are going to define VJPs for basic primitives"
      ]
    },
    {
      "cell_type": "code",
      "metadata": {
        "id": "6t4Md_VbMuYO"
      },
      "source": [
        "def dot(x, W):\n",
        "  return np.dot(W, x)\n",
        "\n",
        "def dot_make_vjp(x, W):\n",
        "  def vjp(u):\n",
        "    return W.T.dot(u), np.outer(u, x)\n",
        "  return vjp\n",
        "\n",
        "dot.make_vjp = dot_make_vjp\n",
        "\n",
        "def squared_loss(y_pred, y):\n",
        "  # The code requires every output to be an array.\n",
        "  return np.array([0.5 * np.sum((y - y_pred) ** 2)])\n",
        "\n",
        "def squared_loss_make_vjp(y_pred, y):\n",
        "  diff = y_pred - y\n",
        "\n",
        "  def vjp(u):\n",
        "    return diff * u, -diff * u\n",
        "\n",
        "  return vjp\n",
        "\n",
        "squared_loss.make_vjp = squared_loss_make_vjp\n",
        "\n",
        "# Cross-entropy loss\n",
        "def cross_entropy_loss(y_pred, y):\n",
        "    cross_entropy = -y * np.log(y_pred) - (1 - y)*np.log(1 - y_pred)\n",
        "    return np.array([cross_entropy])\n",
        "\n",
        "def add(a, b):\n",
        "  return a + b\n",
        "\n",
        "def add_make_vjp(a, b):\n",
        "  \n",
        "  gprime = np.ones(len(a))\n",
        "\n",
        "  def vjp(u):\n",
        "    return u * gprime, u * gprime\n",
        "\n",
        "  return vjp\n",
        "\n",
        "add.make_vjp = add_make_vjp\n",
        "\n",
        "def mul(a, b):\n",
        "  return a * b\n",
        "\n",
        "def mul_make_vjp(a, b):\n",
        "  gprime_a = b\n",
        "  gprime_b = a\n",
        "\n",
        "  def vjp(u):\n",
        "    return u * gprime_a, u * gprime_b\n",
        "\n",
        "  return vjp\n",
        "\n",
        "mul.make_vjp = mul_make_vjp\n",
        "\n",
        "def exp(x):\n",
        "  return np.exp(x)\n",
        "\n",
        "def exp_make_vjp(x):\n",
        "  gprime = exp(x)\n",
        "\n",
        "  def vjp(u):\n",
        "    return u * gprime,\n",
        "\n",
        "  return vjp\n",
        "\n",
        "exp.make_vjp = exp_make_vjp\n",
        "\n",
        "def sqrt(x):\n",
        "  return np.sqrt(x)\n",
        "\n",
        "def sqrt_make_vjp(x):\n",
        "  gprime = 1. / (2 * sqrt(x))\n",
        "\n",
        "  def vjp(u):\n",
        "    return u * gprime,\n",
        "\n",
        "  return vjp\n",
        "\n",
        "sqrt.make_vjp = sqrt_make_vjp"
      ],
      "execution_count": null,
      "outputs": []
    },
    {
      "cell_type": "markdown",
      "metadata": {
        "id": "MHZPzvicNsJn"
      },
      "source": [
        "#### **Exercise 1** \n",
        "\n",
        "Look at the \"exp\", \"sqrt\" and \"squared_loss\" examples above and define the primitive and its associated VJP for the sigmoid function: `sigmoid(x) = 1/(1+ np.exp(-x))`, for the hyperbolic tangent function: `tanh(x) = (np.exp(x)-np.exp(-x))/(np.exp(x)+np.exp(-x))` and cross entropy loss: `-y * np.log(y_pred) - (1 - y)*np.log(1 - y_pred)`. Check the correctness of your implementation using the `num_vjp` utility function."
      ]
    },
    {
      "cell_type": "code",
      "metadata": {
        "id": "QSyKxy-AO3op"
      },
      "source": [
        "rng = np.random.RandomState(0)\n",
        "x_test = rng.randn(5)\n",
        "u_test = rng.randn(5)\n",
        "\n",
        "# Your implementation\n",
        "\n"
      ],
      "execution_count": null,
      "outputs": []
    },
    {
      "cell_type": "code",
      "metadata": {
        "id": "NRDVnGdwNwvH"
      },
      "source": [
        "# Check the correctness of your vjp using num_vjp:\n",
        "#print(num_vjp(sigmoid, x_test, u_test))\n",
        "#print(num_vjp(tanh, x_test, u_test))"
      ],
      "execution_count": null,
      "outputs": []
    },
    {
      "cell_type": "code",
      "source": [
        "# simulate relevant values for cross_entropy\n",
        "rng = np.random.RandomState(0)\n",
        "y_pred_test = rng.rand(5)\n",
        "y_test = rng.rand(5)\n",
        "u_test = rng.randn(5)"
      ],
      "metadata": {
        "id": "a1yTgD-SgtT8"
      },
      "execution_count": null,
      "outputs": []
    },
    {
      "cell_type": "markdown",
      "metadata": {
        "id": "Ku1pFxHSPQqa"
      },
      "source": [
        "### Reverse differentiation of feedforward networks\n",
        "\n",
        "Feedforward networks use a sequence of functions. The functions can either be of the form `func(x, param)` if the function has learnable parameters (e.g., `dot(x, W)`) or `func(x)` if the function doesn't have learnable parameters (e.g., `exp(x)`). \n",
        "\n",
        "We represent a feedforward network using a list of functions and a list of parameters. Let us create a small utility function for creating such a network."
      ]
    },
    {
      "cell_type": "code",
      "metadata": {
        "id": "pQSg5CMGPa8f"
      },
      "source": [
        "def create_feed_forward(n, y, seed=0):\n",
        "  rng = np.random.RandomState(seed)\n",
        "\n",
        "  funcs = [\n",
        "    dot,\n",
        "    add,\n",
        "    tanh,\n",
        "    dot,\n",
        "    add,\n",
        "    sigmoid,\n",
        "    cross_entropy_loss,\n",
        "  ]\n",
        "\n",
        "  params = [\n",
        "        rng.randn(3, n), # w1\n",
        "        rng.randn(3), # b1\n",
        "        None,  \n",
        "        rng.randn(1,3),  # w2\n",
        "        rng.randn(), #b2\n",
        "        None,  \n",
        "        y\n",
        "  ]\n",
        "\n",
        "  return funcs, params"
      ],
      "execution_count": null,
      "outputs": []
    },
    {
      "cell_type": "markdown",
      "metadata": {
        "id": "Aex-WehEPcc4"
      },
      "source": [
        "Next, let us create a small utility function for correctly calling each function, depending on whether it has 1 or 2 arguments."
      ]
    },
    {
      "cell_type": "code",
      "metadata": {
        "id": "S3Ui2mNjPj-C"
      },
      "source": [
        "def call_func(x, func, param):\n",
        "  \"\"\"Make sure the function is called with the correct number of arguments.\"\"\"\n",
        "\n",
        "  if param is None:\n",
        "    # Unary function\n",
        "    return func(x)\n",
        "  else:\n",
        "    # Binary function\n",
        "    return func(x, param)"
      ],
      "execution_count": null,
      "outputs": []
    },
    {
      "cell_type": "markdown",
      "metadata": {
        "id": "MMYLFeu6PrVk"
      },
      "source": [
        "#### **Exercise 2**  \n",
        "Implement the following function for evaluating the feedforward network. Check that the returned value is correct."
      ]
    },
    {
      "cell_type": "code",
      "metadata": {
        "id": "Bsx62s68PyHN"
      },
      "source": [
        "def evaluate_chain(x, funcs, params, return_all=False):\n",
        "  \"\"\"\n",
        "  Evaluate a chain of functions.\n",
        "\n",
        "  Args:\n",
        "    x: initial input to the chain.\n",
        "    funcs: a list of functions of the form func(x) or func(x, param).\n",
        "    params: a list of parameters, with len(params) = len(funcs).\n",
        "            If a function doesn't have parameters, use None.\n",
        "    return_all: whether to return all intermediate values or only the last one.\n",
        "\n",
        "  Returns:\n",
        "    value (return_all == False) or values (return_all=True)\n",
        "  \"\"\"\n",
        "  if len(funcs) != len(params):\n",
        "    raise ValueError(\"len(funcs) and len(params) should be equal.\")\n",
        "\n",
        "  if return_all:\n",
        "    return\n",
        "  else:\n",
        "    return\n"
      ],
      "execution_count": null,
      "outputs": []
    },
    {
      "cell_type": "code",
      "metadata": {
        "id": "VaJzc7m4P3d4"
      },
      "source": [
        "rng = np.random.RandomState(0)\n",
        "x = rng.randn(2)\n",
        "y = 0.7\n",
        "\n",
        "funcs, params = create_feed_forward(n=len(x), y=y, seed=0)\n",
        "W1,B1,_,W2,B2,_,y = params\n",
        "\n",
        "value1=evaluate_chain(x, funcs, params,True)\n",
        "value1"
      ],
      "execution_count": null,
      "outputs": []
    },
    {
      "cell_type": "code",
      "metadata": {
        "id": "nknhwolwRnGX"
      },
      "source": [
        "# Make sure that `evaluate_chain(x, funcs, params)` returns the same value as\n",
        "# a manual implementaton:\n",
        "#x1 = dot(x, W1)\n",
        "#print(x1)\n",
        "#x2 = add(x1,B1)\n",
        "#print(x2)\n",
        "#x3 = tanh(x2)\n",
        "#print(x3)\n",
        "#x4 = dot(x3,W2)\n",
        "#print(x4)\n",
        "#add_make_vjp(x4,B2)\n",
        "#x5 = add(x4, B2)\n",
        "#print(x5)\n",
        "#x6=sigmoid(x5)\n",
        "#print(x6)\n",
        "#value = cross_entropy_loss(x6, y)\n",
        "#value"
      ],
      "execution_count": null,
      "outputs": []
    },
    {
      "cell_type": "markdown",
      "metadata": {
        "id": "D5CLubAJRwKJ"
      },
      "source": [
        "#### **Exercise 3**\n",
        "Reusing the previous function with `return_all=True`, implement the following function that returns both the network value and the Jacobian w.r.t. `x`. Check correctness of the Jacobian using `num_jacobian`."
      ]
    },
    {
      "cell_type": "code",
      "metadata": {
        "id": "S9yzRVWpR7gv"
      },
      "source": [
        "def call_vjp(x, func, param, u):\n",
        "  \"\"\"Make sure the vjp is called with the correct number of arguments.\"\"\"\n",
        "  if param is None:\n",
        "    vjp = func.make_vjp(x)\n",
        "    vjp_x, = vjp(u)\n",
        "    vjp_param = None\n",
        "  else:\n",
        "    vjp = func.make_vjp(x, param)\n",
        "    vjp_x, vjp_param = vjp(u)\n",
        "  return vjp_x, vjp_param"
      ],
      "execution_count": null,
      "outputs": []
    },
    {
      "cell_type": "code",
      "metadata": {
        "id": "LOae6DwlR8Q2",
        "colab": {
          "base_uri": "https://localhost:8080/",
          "height": 149
        },
        "outputId": "984ffd04-43d6-49b4-ecd2-1c3573e97d9e"
      },
      "source": [
        "def reverse_diff_chain(x, funcs, params):\n",
        "  \"\"\"\n",
        "  Reverse-mode differentiation of a chain of computations.\n",
        "\n",
        "  Args:\n",
        "    x: initial input to the chain.\n",
        "    funcs: a list of functions of the form func(x) or func(x, param).\n",
        "    params: a list of parameters, with len(params) = len(funcs).\n",
        "            If a function doesn't have parameters, use None.\n",
        "\n",
        "  Returns:\n",
        "    value, Jacobian w.r.t. x\n",
        "  \"\"\"\n",
        "  # Evaluate the feedforward model and store intermediate computations,\n",
        "  # as they will be needed during the backward pass.\n",
        "  xs = evaluate_chain(x, funcs, params, return_all=True)\n",
        "\n",
        "  m = xs[-1].shape[0]  # Output size\n",
        "  K = len(funcs)  # Number of functions.\n",
        "\n",
        "  # We need a list as the shape of U can change.\n",
        "  U = list(np.eye(m))\n",
        "\n",
        "  for k in reversed(range(K)):\n",
        "    # Implement backward differentiation here\n",
        "\n",
        "  return xs[-1], np.array(U)"
      ],
      "execution_count": null,
      "outputs": [
        {
          "output_type": "error",
          "ename": "IndentationError",
          "evalue": "ignored",
          "traceback": [
            "\u001b[0;36m  File \u001b[0;32m\"<ipython-input-7-fcbac2704ac1>\"\u001b[0;36m, line \u001b[0;32m27\u001b[0m\n\u001b[0;31m    return xs[-1], np.array(U)\u001b[0m\n\u001b[0m         ^\u001b[0m\n\u001b[0;31mIndentationError\u001b[0m\u001b[0;31m:\u001b[0m expected an indented block\n"
          ]
        }
      ]
    },
    {
      "cell_type": "code",
      "metadata": {
        "id": "46pVD9sLSESu"
      },
      "source": [
        "#value, jac = reverse_diff_chain(x, funcs, params)\n",
        "#print(jac)\n",
        "#print(value)"
      ],
      "execution_count": null,
      "outputs": []
    },
    {
      "cell_type": "code",
      "metadata": {
        "id": "DUs0lJevSOlE"
      },
      "source": [
        "# Check correctness of Jacobian using `num_jacobian`.\n",
        "def f(x):\n",
        "  return evaluate_chain(x, funcs, params)\n",
        "# # num_jacobian only accepts functions of one argument.\n",
        "#num_jac = num_jacobian(f, x)\n",
        "#num_jac"
      ],
      "execution_count": null,
      "outputs": []
    },
    {
      "cell_type": "markdown",
      "metadata": {
        "id": "Oj6fxteXSXmi"
      },
      "source": [
        "#### **Exercise 4**\n",
        "\n",
        "Modify the above function to also return the Jacobians w.r.t. W1, W3, W5. Check correctness using `num_jacobian`."
      ]
    },
    {
      "cell_type": "code",
      "metadata": {
        "id": "gs6bDTlRSvZW"
      },
      "source": [
        "value, jac, W = reverse_diff_chain_2(x, funcs, params)\n",
        "#print(jac)\n",
        "#print(W)\n",
        "#print(value)"
      ],
      "execution_count": null,
      "outputs": []
    },
    {
      "cell_type": "markdown",
      "metadata": {
        "id": "AasLBhB8a_zX"
      },
      "source": [
        "#### Exercise 5\n",
        "\n",
        "Validate preceding results with JAX framework"
      ]
    },
    {
      "cell_type": "code",
      "metadata": {
        "id": "If-lKn0Sa-gb"
      },
      "source": [
        "import jax.numpy as jnp\n",
        "from jax import grad\n",
        "\n",
        "def jnp_sigmoid(x):\n",
        "    return 1 / (1 + jnp.exp(-x))\n",
        "\n",
        "# Computes our network's output\n",
        "def net(params, x):\n",
        "    w1, b1, w2, b2 = params\n",
        "    hidden = jnp.tanh(jnp.dot(w1, x) + b1)\n",
        "    return jnp_sigmoid(jnp.dot(w2, hidden) + b2)\n",
        "\n",
        "# Cross-entropy loss\n",
        "def loss(params, x, y):\n",
        "    out = net(params, x)\n",
        "    cross_entropy = -y * jnp.log(out) - (1 - y)*jnp.log(1 - out)\n",
        "    return cross_entropy\n",
        "\n",
        "# compute loss gradient\n",
        "loss_grad = grad(loss)"
      ],
      "execution_count": null,
      "outputs": []
    },
    {
      "cell_type": "markdown",
      "metadata": {
        "id": "JTgfB8h0ZLzi"
      },
      "source": [
        "## Training NNET"
      ]
    },
    {
      "cell_type": "markdown",
      "metadata": {
        "id": "MfWDRkMGZUcC"
      },
      "source": [
        "### Prepare dataset"
      ]
    },
    {
      "cell_type": "code",
      "source": [
        "import random\n",
        "import itertools"
      ],
      "metadata": {
        "id": "sE0Vg3sHl04z"
      },
      "execution_count": null,
      "outputs": []
    },
    {
      "cell_type": "markdown",
      "metadata": {
        "id": "gocVeXR4ZgUk"
      },
      "source": [
        "#### **Exercise 6** \n",
        "We propose to begin with the classic Moons simulated dataset, to have two input features and as target two possible classes. You may start with this dataset, but you have to either (a) simulate a new dataset, (b) load some appropriate data to use (any ML repository will do)."
      ]
    },
    {
      "cell_type": "code",
      "metadata": {
        "id": "5M0oPO_EZC2S"
      },
      "source": [
        "# some imports\n",
        "from sklearn.datasets import *\n",
        "import pandas as pd"
      ],
      "execution_count": null,
      "outputs": []
    },
    {
      "cell_type": "code",
      "metadata": {
        "id": "Kps8wjpNZa8y"
      },
      "source": [
        "# generate 2d classification dataset\n",
        "X, y = make_moons(n_samples=100, noise=0.1)"
      ],
      "execution_count": null,
      "outputs": []
    },
    {
      "cell_type": "code",
      "metadata": {
        "id": "v0-nbLpOZeW5",
        "colab": {
          "base_uri": "https://localhost:8080/",
          "height": 320
        },
        "outputId": "a1557b66-e435-4699-b4e9-5cdc31a91f54"
      },
      "source": [
        "# create proper dataframe with column names\n",
        "m = pd.DataFrame([X[:,0], X[:,1], y]).T\n",
        "m.columns = [\"X1\", \"X2\", \"Class\"]\n",
        "\n",
        "# nice plot\n",
        "col = m.Class.map({0:'b', 1:'r'})\n",
        "m.plot(x = \"X1\", y = \"X2\", kind = 'scatter', color = col)"
      ],
      "execution_count": null,
      "outputs": [
        {
          "output_type": "execute_result",
          "data": {
            "text/plain": [
              "<matplotlib.axes._subplots.AxesSubplot at 0x7fdf82dea8d0>"
            ]
          },
          "metadata": {},
          "execution_count": 14
        },
        {
          "output_type": "display_data",
          "data": {
            "text/plain": [
              "<Figure size 432x288 with 1 Axes>"
            ],
            "image/png": "[encoded data removed]"
          },
          "metadata": {
            "needs_background": "light"
          }
        }
      ]
    },
    {
      "cell_type": "markdown",
      "metadata": {
        "id": "-cF_VJRsf4cb"
      },
      "source": [
        "### Training"
      ]
    },
    {
      "cell_type": "markdown",
      "metadata": {
        "id": "IMvIuZ7fdNwF"
      },
      "source": [
        "#### **Exercise 7**\n",
        "\n",
        "Fill in the code below in order to train the neural network on the simulated training dataset. Take some time to think about different stopping criterions."
      ]
    },
    {
      "cell_type": "code",
      "source": [
        "# Sigmoid nonlinearity\n",
        "def sigmoid(x):\n",
        "    return 1 / (1 + jnp.exp(-x))\n",
        "\n",
        "# Computes our network's output\n",
        "def net(params, x):\n",
        "    w1, b1, w2, b2 = params\n",
        "    hidden = jnp.tanh(jnp.dot(w1, x) + b1)\n",
        "    return sigmoid(jnp.dot(w2, hidden) + b2)\n",
        "\n",
        "# Cross-entropy loss\n",
        "def loss(params, x, y):\n",
        "    out = net(params, x)\n",
        "    cross_entropy = -y * jnp.log(out) - (1 - y)*jnp.log(1 - out)\n",
        "    return cross_entropy\n",
        "\n",
        "def initial_params():\n",
        "    return [\n",
        "        np.random.randn(3, 2),  # w1\n",
        "        np.random.randn(3),  # b1\n",
        "        np.random.randn(3),  # w2\n",
        "        np.random.randn(),  #b2\n",
        "    ]"
      ],
      "metadata": {
        "id": "1lRHBhNonsgw"
      },
      "execution_count": null,
      "outputs": []
    },
    {
      "cell_type": "code",
      "metadata": {
        "id": "J9lMsvX0dERZ"
      },
      "source": [
        "## Training the neural network\n",
        "learning_rate = 0.1\n",
        "for n in itertools.count():\n",
        "    # select observations\n",
        "    sel = \n",
        "    # X selected\n",
        "    x_sel = \n",
        "    # Y selected\n",
        "    y_sel = \n",
        "    # compute the gradient\n",
        "    gradient = \n",
        "    # update neural network parameter via gradient descent rule\n",
        "    params = [param - learning_rate * g\n",
        "              for param, g in zip(params, gradient)]\n",
        "    # check stopping criterion\n",
        "    some_condition = \n",
        "    if some_condition:\n",
        "      break"
      ],
      "execution_count": null,
      "outputs": []
    },
    {
      "cell_type": "markdown",
      "metadata": {
        "id": "VLC0orSff-Ib"
      },
      "source": [
        "### Testing"
      ]
    },
    {
      "cell_type": "markdown",
      "metadata": {
        "id": "xFFTzXzTdNj6"
      },
      "source": [
        "#### **Exercise 8**\n",
        "\n",
        "Analyse the performance of the neural network (ideally on training & testing set) and the convergence of its parameters throughout iterations"
      ]
    },
    {
      "cell_type": "markdown",
      "metadata": {
        "id": "z5BYoZotgCNY"
      },
      "source": [
        "### Visualization"
      ]
    },
    {
      "cell_type": "markdown",
      "metadata": {
        "id": "x9e42pGSfRMc"
      },
      "source": [
        "#### **Exercise 9**\n",
        "\n",
        "Plot the decision boundary computed by the neural network"
      ]
    },
    {
      "cell_type": "code",
      "metadata": {
        "id": "gMUyKXp_ffnQ"
      },
      "source": [
        "# using np.meshgrid, plt.contourf, plt.scatter"
      ],
      "execution_count": null,
      "outputs": []
    },
    {
      "cell_type": "markdown",
      "metadata": {
        "id": "a5dULJF8dODG"
      },
      "source": [
        "#### **Exercise 10**\n",
        "\n",
        "Using GraphViz to represent YOUR neural network"
      ]
    },
    {
      "cell_type": "code",
      "metadata": {
        "id": "P2SwoB-3cxee"
      },
      "source": [
        "from graphviz import Digraph\n",
        "\n",
        "\n",
        "def f(x):\n",
        "  return ('(' + str(round(x, 1)) + ')')\n",
        " \n",
        "dot = Digraph(comment='The Round Table')\n",
        "dot.attr(rankdir='LR')\n",
        "\n",
        "# inputs\n",
        "dot.node('X1', 'Input 1\\nX1')\n",
        "dot.node('X2', 'Input 2\\nX2')\n",
        "\n",
        "# hidden layer\n",
        "dot.node('N11', 'Neuron N[11]\\n sigmoid(' + f(params[1][0]) + ' + ' + f(params[0][0,0]) + ' * X1 + ' + f(params[0][0,1]) + ' * X2)')\n",
        "dot.node('N12', 'Neuron N[12]\\n sigmoid(' + f(params[1][1]) + ' + ' + f(params[0][1,0]) + ' * X1 + ' + f(params[0][1,1]) + ' * X2)')\n",
        "dot.node('N13', 'Neuron N[13]\\n sigmoid(' + f(params[1][2]) + ' + ' + f(params[0][2,0]) + ' * X1 + ' + f(params[0][2,1]) + ' * X2)')\n",
        "\n",
        "# edges between inputs and hidden layer\n",
        "dot.edge('X1', 'N11')\n",
        "dot.edge('X1', 'N12')\n",
        "dot.edge('X1', 'N13')\n",
        "dot.edge('X2', 'N11')\n",
        "dot.edge('X2', 'N12')\n",
        "dot.edge('X2', 'N13')\n",
        "\n",
        "# output\n",
        "dot.node('O', 'Y^\\n sigmoid(' + f(params[3]) + ' + ' + f(params[2][0]) + ' * N[11] \\n+ ' + f(params[2][1]) + ' * N[12] + ' + f(params[2][2]) + ' * N[13])')\n",
        "\n",
        "# edges between hidden layer and output\n",
        "dot.edge('N11', 'O')\n",
        "dot.edge('N12', 'O')\n",
        "dot.edge('N13', 'O')\n",
        "\n",
        "#\n",
        "print(dot.source)"
      ],
      "execution_count": null,
      "outputs": []
    }
  ]
}