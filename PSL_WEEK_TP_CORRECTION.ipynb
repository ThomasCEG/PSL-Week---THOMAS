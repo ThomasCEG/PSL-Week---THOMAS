{
  "nbformat": 4,
  "nbformat_minor": 0,
  "metadata": {
    "colab": {
      "provenance": [],
      "collapsed_sections": [
        "OcR14zoMRPUC",
        "TuZNM-6yT0gp",
        "8fvXX-HaVz4Y",
        "l0w7wNG1cYDv",
        "gocVeXR4ZgUk",
        "IMvIuZ7fdNwF",
        "xFFTzXzTdNj6",
        "x9e42pGSfRMc",
        "a5dULJF8dODG"
      ]
    },
    "kernelspec": {
      "name": "python3",
      "display_name": "Python 3"
    }
  },
  "cells": [
    {
      "cell_type": "markdown",
      "metadata": {
        "id": "5XnOjWXUbmJP"
      },
      "source": [
        "# PSL WEEK - DL\n",
        "\n",
        "*Notebook prepared by Arthur Thomas based on lab work of Mathieu Blondel, November 2022.*\n",
        "\n",
        "\n",
        "The accompanying slides are available [here](https://github.com/ThomasCEG/PSL-Week---THOMAS/blob/0973dc75504de052a3946c6fd6ff4544f0aa18a2/SLIDE_COURS_PSL.pdf).*"
      ]
    },
    {
      "cell_type": "markdown",
      "metadata": {
        "id": "6cq4LZJmbqz_"
      },
      "source": [
        "## Automatic differentiation  \n",
        "\n",
        "In this first part of the lab work, we are going to implement reverse differentiation (a.k.a. backpropagation) for a feedforward network (that is, the composition of a **sequence** or **chain** of functions)."
      ]
    },
    {
      "cell_type": "markdown",
      "metadata": {
        "id": "g_5nD3j2bxCC"
      },
      "source": [
        "### Numerical differentiation utilities\n",
        "\n",
        "In this section, I define utility functions for computing Jacobians, Jacobian-vector products (VJPs), and vector Jacobian products (VJPs). You will need to use them to check the correctness of your implementations."
      ]
    },
    {
      "cell_type": "code",
      "metadata": {
        "id": "B4n6JlkxIb_V"
      },
      "source": [
        "import numpy as np\n",
        "\n",
        "def num_jvp(f, x, v, eps=1e-6):\n",
        "  \"\"\"\n",
        "  Args:\n",
        "    f: a function returning an array.\n",
        "    x: an array.\n",
        "    v: an array (same shape as x).\n",
        "\n",
        "  Returns:\n",
        "    numerical_jvp\n",
        "  \"\"\"\n",
        "  if not np.array_equal(x.shape, v.shape):\n",
        "    raise ValueError(\"x and v should have the same shape.\")\n",
        "\n",
        "  return (f(x + eps * v) - f(x - eps * v)) / (2 * eps)\n",
        "\n",
        "def num_jacobian(f, x, eps=1e-6):\n",
        "  \"\"\"\n",
        "  Args:\n",
        "    f: a function returning an array.\n",
        "    x: an array (only 1d and 2d arrays supported).\n",
        "\n",
        "  Returns:\n",
        "    numerical_jacobian\n",
        "  \"\"\"\n",
        "  def e(i):\n",
        "    ret = np.zeros_like(x)\n",
        "    ret[i] = 1\n",
        "    return ret\n",
        "\n",
        "  def E(i, j):\n",
        "    ret = np.zeros_like(x)\n",
        "    ret[i, j] = 1\n",
        "    return ret\n",
        "\n",
        "  if len(x.shape) == 1:\n",
        "    return np.array([num_jvp(f, x, e(i), eps=eps) for i in range(len(x))]).T\n",
        "  elif len(x.shape) == 2:\n",
        "    return np.array([[num_jvp(f, x, E(i, j), eps=eps) \\\n",
        "                     for i in range(x.shape[0])] \\\n",
        "                     for j in range(x.shape[1])]).T\n",
        "  else:\n",
        "    raise NotImplementedError\n",
        "\n",
        "def num_vjp(f, x, u, eps=1e-6):\n",
        "  \"\"\"\n",
        "  Args:\n",
        "    f: a function returning an array.\n",
        "    x: an array (only 1d and 2d arrays supported).\n",
        "\n",
        "  Returns:\n",
        "    numerical_vjp\n",
        "  \"\"\"\n",
        "  J = num_jacobian(f, x, eps=eps)\n",
        "  if len(J.shape) == 2:\n",
        "    return J.T.dot(u)\n",
        "  elif len(J.shape) == 3:\n",
        "    shape = J.shape[1:]\n",
        "    J = J.reshape(J.shape[0], -1)\n",
        "    return u.dot(J).reshape(shape)\n",
        "  else:\n",
        "    raise NotImplementedError\n"
      ],
      "execution_count": null,
      "outputs": []
    },
    {
      "cell_type": "markdown",
      "metadata": {
        "id": "Sn8-CxAHIqVD"
      },
      "source": [
        "### Vector Jacobian products (VJPs) for basic primitives\n",
        "\n",
        "In this section, we are going to define VJPs for basic primitives. "
      ]
    },
    {
      "cell_type": "code",
      "metadata": {
        "id": "uBW-vGb8Ksra"
      },
      "source": [
        "def dot(x, W):\n",
        "  return np.dot(W, x)\n",
        "\n",
        "def dot_make_vjp(x, W):\n",
        "  def vjp(u):\n",
        "    return W.T.dot(u), np.outer(u, x)\n",
        "  return vjp\n",
        "\n",
        "dot.make_vjp = dot_make_vjp\n",
        "\n",
        "def sigmoid(x):\n",
        "  return 1 / (1 + np.exp(-x))\n",
        "\n",
        "def tanh(x):\n",
        "  #On ne leurs donne pas cela \n",
        "  return np.tanh(x)\n",
        "    \n",
        "def squared_loss(y_pred, y):\n",
        "  # The code requires every output to be an array.\n",
        "  return np.array([0.5 * np.sum((y - y_pred) ** 2)])\n",
        "\n",
        "def squared_loss_make_vjp(y_pred, y):\n",
        "  diff = y_pred - y\n",
        "\n",
        "  def vjp(u):\n",
        "    return diff * u, -diff * u\n",
        "\n",
        "  return vjp\n",
        "\n",
        "squared_loss.make_vjp = squared_loss_make_vjp\n",
        "\n",
        "# Cross-entropy loss\n",
        "def cross_entropy_loss(y_pred, y):\n",
        "    cross_entropy = -y * np.log(y_pred) - (1 - y)*np.log(1 - y_pred)\n",
        "    return np.array([cross_entropy])\n",
        "\n",
        "def add(a, b):\n",
        "  return a + b\n",
        "\n",
        "def add_make_vjp(a, b):\n",
        "  gprime = np.ones(len(a))\n",
        "\n",
        "\n",
        "  def vjp(u):\n",
        "    return u * gprime, u * gprime\n",
        "\n",
        "  return vjp\n",
        "\n",
        "add.make_vjp = add_make_vjp\n",
        "\n",
        "def mul(a, b):\n",
        "  return a * b\n",
        "\n",
        "def mul_make_vjp(a, b):\n",
        "  gprime_a = b\n",
        "  gprime_b = a\n",
        "\n",
        "  def vjp(u):\n",
        "    return u * gprime_a, u * gprime_b\n",
        "\n",
        "  return vjp\n",
        "\n",
        "mul.make_vjp = mul_make_vjp\n",
        "\n",
        "def exp(x):\n",
        "  return np.exp(x)\n",
        "\n",
        "def exp_make_vjp(x):\n",
        "  gprime = exp(x)\n",
        "\n",
        "  def vjp(u):\n",
        "    return u * gprime,\n",
        "\n",
        "  return vjp\n",
        "\n",
        "exp.make_vjp = exp_make_vjp\n",
        "\n",
        "def sqrt(x):\n",
        "  return np.sqrt(x)\n",
        "\n",
        "def sqrt_make_vjp(x):\n",
        "  gprime = 1. / (2 * sqrt(x))\n",
        "\n",
        "  def vjp(u):\n",
        "    return u * gprime,\n",
        "\n",
        "  return vjp\n",
        "\n",
        "sqrt.make_vjp = sqrt_make_vjp"
      ],
      "execution_count": null,
      "outputs": []
    },
    {
      "cell_type": "markdown",
      "metadata": {
        "id": "wyZTVrEQNdJR"
      },
      "source": [
        "#### **Exercise 1** \n",
        "\n",
        "Look at the \"exp\", \"sqrt\" and \"squared_loss\" examples above and define the primitive and its associated VJP for the sigmoid function: `sigmoid(x) = 1/(1+ np.exp(-x))`, for the hyperbolic tangent function: `tanh(x) = (np.exp(x)-np.exp(-x))/(np.exp(x)+np.exp(-x))` and cross entropy loss: `-y * np.log(y_pred) - (1 - y)*np.log(1 - y_pred)`. Check the correctness of your implementation using the `num_vjp` utility function."
      ]
    },
    {
      "cell_type": "code",
      "metadata": {
        "id": "luk7y1NqNue2"
      },
      "source": [
        "##Correction\n",
        "\n",
        "def sigmoid_make_vjp(x):\n",
        "  #gprime= np.exp(-x)/ ((1+ np.exp(-x))**2)\n",
        "\n",
        "  gprime=sigmoid(x)* (1-sigmoid(x))\n",
        "\n",
        "  def vjp(u):\n",
        "    return u * gprime,\n",
        "\n",
        "  return vjp\n",
        "\n",
        "sigmoid.make_vjp = sigmoid_make_vjp\n",
        "\n",
        "def cross_entropy_loss_make_vjp(y_pred, y):\n",
        "    gprime_y = np.log(1 - y_pred) - np.log(y_pred)\n",
        "    gprime_y_pred= (1-y)/(1-y_pred) - (y)/(y_pred)\n",
        "\n",
        "    def vjp(u):\n",
        "      return u*gprime_y_pred, u* gprime_y\n",
        "\n",
        "    return vjp\n",
        "\n",
        "cross_entropy_loss.make_vjp = cross_entropy_loss_make_vjp\n",
        "\n",
        "def tanh_make_vjp(x):\n",
        " \n",
        "  gprime=(1-tanh(x)**2)\n",
        "\n",
        "  def vjp(u):\n",
        "    return u * gprime,\n",
        "\n",
        "  return vjp\n",
        "\n",
        "tanh.make_vjp = tanh_make_vjp"
      ],
      "execution_count": null,
      "outputs": []
    },
    {
      "cell_type": "code",
      "metadata": {
        "id": "kAKJn7V6Toml"
      },
      "source": [
        "rng = np.random.RandomState(0)\n",
        "x_test = rng.randn(5)\n",
        "u_test = rng.randn(5)"
      ],
      "execution_count": null,
      "outputs": []
    },
    {
      "cell_type": "code",
      "metadata": {
        "colab": {
          "base_uri": "https://localhost:8080/"
        },
        "id": "aaQLD9S6TeIi",
        "outputId": "e68727c2-c40a-433d-a82f-467abc2d229b"
      },
      "source": [
        "def sigmoid_make_vjp_test(x,u):\n",
        "  r = [sigmoid_make_vjp(x[i])(u[i]) for i in range(len(x))]\n",
        "  return r\n",
        "\n",
        "print('Our implementation:\\n')\n",
        "print(sigmoid_make_vjp_test(x_test,u_test))\n",
        "\n",
        "print('\\nCheck with VJP:\\n')\n",
        "print(num_vjp(sigmoid, x_test, u_test))"
      ],
      "execution_count": null,
      "outputs": [
        {
          "output_type": "stream",
          "name": "stdout",
          "text": [
            "Our implementation:\n",
            "\n",
            "[(-0.1220470202913649,), (0.22826186750045688,), (-0.030049789465322333,), (-0.00896924374617215,), (0.047594742900286875,)]\n",
            "\n",
            "Check with VJP:\n",
            "\n",
            "[-0.12204702  0.22826187 -0.03004979 -0.00896924  0.04759474]\n"
          ]
        }
      ]
    },
    {
      "cell_type": "code",
      "metadata": {
        "colab": {
          "base_uri": "https://localhost:8080/"
        },
        "id": "JDuhD62xuKD0",
        "outputId": "7eaa929d-888e-4ea2-8cf9-a457922ce792"
      },
      "source": [
        "def tanh_make_vjp_test(x,u):\n",
        "  r = [tanh_make_vjp(x[i])(u[i]) for i in range(len(x))]\n",
        "  return r\n",
        "\n",
        "print('Our implementation:\\n')\n",
        "print(tanh_make_vjp_test(x_test,u_test))\n",
        "\n",
        "print('\\nCheck with VJP:\\n')\n",
        "print(num_vjp(tanh, x_test, u_test))"
      ],
      "execution_count": null,
      "outputs": [
        {
          "output_type": "stream",
          "name": "stdout",
          "text": [
            "Our implementation:\n",
            "\n",
            "[(-0.10831950192035003,), (0.8128353740579085,), (-0.06564589923948837,), (-0.004567016431177756,), (0.037397891282206934,)]\n",
            "\n",
            "Check with VJP:\n",
            "\n",
            "[-0.1083195   0.81283537 -0.0656459  -0.00456702  0.03739789]\n"
          ]
        }
      ]
    },
    {
      "cell_type": "code",
      "metadata": {
        "colab": {
          "base_uri": "https://localhost:8080/"
        },
        "id": "olOrVAFdTcKU",
        "outputId": "eec6a24b-750f-4891-f74c-d10ec0fc07ee"
      },
      "source": [
        "# simulate relevant values\n",
        "rng = np.random.RandomState(0)\n",
        "y_pred_test = rng.rand(5)\n",
        "y_test = rng.rand(5)\n",
        "u_test = rng.randn(5)\n",
        "\n",
        "print('# set value for y_pred, get derivative over y:\\n')\n",
        "y_pred_ref_value = y_pred_test[0]\n",
        "def f(x, eps = 1e-3):\n",
        "  return cross_entropy_loss(y_pred = y_pred_ref_value, y = x)\n",
        "print('> our implementation:\\n')\n",
        "print([cross_entropy_loss_make_vjp(y_pred = y_pred_ref_value, y = y_test[i])(u_test[i])[1] for i in range(len(y_test))])\n",
        "print('\\n> check with VJP:\\n')\n",
        "print(num_vjp(f = f, x = y_test, u = u_test))\n",
        "\n",
        "print('\\n\\n# set value for y, get derivative over y_pred:\\n')\n",
        "y_ref_value = y_test[0]\n",
        "def f(x, eps = 1e-3):\n",
        "  return cross_entropy_loss(y_pred = x, y = y_ref_value)\n",
        "print('Our implementation:\\n')\n",
        "print([cross_entropy_loss_make_vjp(y_pred = y_pred_test[i], y = y_ref_value)(u_test[i])[0] for i in range(len(y_test))])\n",
        "print('\\nCheck with VJP:\\n')\n",
        "print(num_vjp(f = f, x = y_pred_test, u = u_test))\n"
      ],
      "execution_count": null,
      "outputs": [
        {
          "output_type": "stream",
          "name": "stdout",
          "text": [
            "# set value for y_pred, get derivative over y:\n",
            "\n",
            "> our implementation:\n",
            "\n",
            "[-0.02821495389429169, -0.2848600573976503, -0.1490704802289086, -0.0238334481210415, -0.08694300305354295]\n",
            "\n",
            "> check with VJP:\n",
            "\n",
            "[[-0.02821495 -0.28486006 -0.14907048 -0.02383345 -0.086943  ]]\n",
            "\n",
            "\n",
            "# set value for y, get derivative over y_pred:\n",
            "\n",
            "Our implementation:\n",
            "\n",
            "[-0.05647360227143732, 0.49473465247273385, -0.13708720624792747, -0.04956139204888872, -0.4039943091559147]\n",
            "\n",
            "Check with VJP:\n",
            "\n",
            "[[-0.0564736   0.49473465 -0.13708721 -0.04956139 -0.40399431]]\n"
          ]
        }
      ]
    },
    {
      "cell_type": "markdown",
      "metadata": {
        "id": "sH37U1gpN86J"
      },
      "source": [
        "### Reverse differentiation of feedforward networks\n",
        "\n",
        "Feedforward networks use a sequence of functions. The functions can either be of the form `func(x, param)` if the function has learnable parameters (e.g., `dot(x, W)`) or `func(x)` if the function doesn't have learnable parameters (e.g., `exp(x)`). \n",
        "\n",
        "We represent a feedforward network using a list of functions and a list of parameters. Let us create a small utility function for creating such a network."
      ]
    },
    {
      "cell_type": "code",
      "metadata": {
        "id": "jf-ZYYjlQb9R"
      },
      "source": [
        "def create_feed_forward(n, y, seed=0):\n",
        "  rng = np.random.RandomState(seed)\n",
        "\n",
        "  funcs = [\n",
        "    dot,\n",
        "    add,\n",
        "    tanh,\n",
        "    dot,\n",
        "    add,\n",
        "    sigmoid,\n",
        "    cross_entropy_loss,\n",
        "  ]\n",
        "\n",
        "  params = [\n",
        "        rng.randn(3, n), # w1\n",
        "        rng.randn(3), # b1\n",
        "        None,  \n",
        "        rng.randn(1,3),  # w2\n",
        "        rng.randn(), #b2\n",
        "        None,  \n",
        "        y\n",
        "  ]\n",
        "\n",
        "  return funcs, params"
      ],
      "execution_count": null,
      "outputs": []
    },
    {
      "cell_type": "markdown",
      "metadata": {
        "id": "_TEs4xEGQySA"
      },
      "source": [
        "Next, let us create a small utility function for correctly calling each function, depending on whether it has 1 or 2 arguments."
      ]
    },
    {
      "cell_type": "code",
      "metadata": {
        "id": "n8-rUfSlQ6-s"
      },
      "source": [
        "def call_func(x, func, param):\n",
        "  \"\"\"Make sure the function is called with the correct number of arguments.\"\"\"\n",
        "\n",
        "  if param is None:\n",
        "    # Unary function\n",
        "    return func(x)\n",
        "  else:\n",
        "    # Binary function\n",
        "    return func(x, param)"
      ],
      "execution_count": null,
      "outputs": []
    },
    {
      "cell_type": "markdown",
      "metadata": {
        "id": "OcR14zoMRPUC"
      },
      "source": [
        "#### **Exercise 2**  \n",
        "\n",
        "Implement the following function for evaluating the feedforward network. Check that the returned value is correct."
      ]
    },
    {
      "cell_type": "code",
      "metadata": {
        "id": "xmnpMz9bRx-Q"
      },
      "source": [
        "def evaluate_chain(x, funcs, params, return_all=False):\n",
        "  \"\"\"\n",
        "  Evaluate a chain of functions.\n",
        "\n",
        "  Args:\n",
        "    x: initial input to the chain.\n",
        "    funcs: a list of functions of the form func(x) or func(x, param).\n",
        "    params: a list of parameters, with len(params) = len(funcs).\n",
        "            If a function doesn't have parameters, use None.\n",
        "    return_all: whether to return all intermediate values or only the last one.\n",
        "\n",
        "  Returns:\n",
        "    value (return_all == False) or values (return_all=True)\n",
        "  \"\"\"\n",
        "  if len(funcs) != len(params):\n",
        "    raise ValueError(\"len(funcs) and len(params) should be equal.\")\n",
        "\n",
        "  xs = [x]\n",
        "\n",
        "  for k in range(len(funcs)):\n",
        "    xs.append(call_func(xs[k], funcs[k], params[k]))\n",
        "\n",
        "  if return_all:\n",
        "    return xs\n",
        "  else:\n",
        "    return xs[-1]\n"
      ],
      "execution_count": null,
      "outputs": []
    },
    {
      "cell_type": "code",
      "metadata": {
        "colab": {
          "base_uri": "https://localhost:8080/"
        },
        "id": "IlqFsw7jsa4E",
        "outputId": "6fa10d62-8f12-46fe-d81f-5afa967ac41e"
      },
      "source": [
        "rng = np.random.RandomState(0)\n",
        "x = rng.randn(2)\n",
        "y = 0.69\n",
        "\n",
        "funcs, params = create_feed_forward(n=len(x), y=y, seed=0)\n",
        "W1,B1,_,W2,B2,_,y = params\n",
        "\n",
        "value1=evaluate_chain(x, funcs, params,True)\n",
        "value1"
      ],
      "execution_count": null,
      "outputs": [
        {
          "output_type": "execute_result",
          "data": {
            "text/plain": [
              "[array([1.76405235, 0.40015721]),\n",
              " array([3.27200647, 2.6232546 , 2.90340527]),\n",
              " array([4.22209489, 2.4718974 , 2.80018641]),\n",
              " array([0.9995698 , 0.98584588, 0.99263426]),\n",
              " array([1.99598833]),\n",
              " array([2.75702605]),\n",
              " array([0.94030893]),\n",
              " array([[0.91622488]])]"
            ]
          },
          "metadata": {},
          "execution_count": 17
        }
      ]
    },
    {
      "cell_type": "code",
      "metadata": {
        "colab": {
          "base_uri": "https://localhost:8080/"
        },
        "id": "Bpvvx4dHpA_P",
        "outputId": "54eaf8f0-94e2-4bed-a39c-3659c0cc38ec"
      },
      "source": [
        "# Make sure that `evaluate_chain(x, funcs, params)` returns the same value as\n",
        "# a manual implementaton:\n",
        "x1 = dot(x, W1)\n",
        "print(x1)\n",
        "x2 = add(x1,B1)\n",
        "print(x2)\n",
        "x3 = tanh(x2)\n",
        "print(x3)\n",
        "x4 = dot(x3,W2)\n",
        "print(x4)\n",
        "x5 = add(x4, B2)\n",
        "print(x5)\n",
        "x6=sigmoid(x5)\n",
        "print(x6)\n",
        "value = cross_entropy_loss(x6, y)\n",
        "value\n"
      ],
      "execution_count": null,
      "outputs": [
        {
          "output_type": "stream",
          "name": "stdout",
          "text": [
            "[3.27200647 2.6232546  2.90340527]\n",
            "[4.22209489 2.4718974  2.80018641]\n",
            "[0.9995698  0.98584588 0.99263426]\n",
            "[1.99598833]\n",
            "[2.75702605]\n",
            "[0.94030893]\n"
          ]
        },
        {
          "output_type": "execute_result",
          "data": {
            "text/plain": [
              "array([[0.91622488]])"
            ]
          },
          "metadata": {},
          "execution_count": 30
        }
      ]
    },
    {
      "cell_type": "markdown",
      "metadata": {
        "id": "TuZNM-6yT0gp"
      },
      "source": [
        "#### **Exercise 3**\n",
        "\n",
        "Reusing the previous function with `return_all=True`, implement the following function that returns both the network value and the Jacobian w.r.t. `x`. Check correctness of the Jacobian using `num_jacobian`."
      ]
    },
    {
      "cell_type": "code",
      "metadata": {
        "id": "YmXeQ34TULOP"
      },
      "source": [
        "def call_vjp(x, func, param, u):\n",
        "  \"\"\"Make sure the vjp is called with the correct number of arguments.\"\"\"\n",
        "  if param is None:\n",
        "    vjp = func.make_vjp(x)\n",
        "    vjp_x, = vjp(u)\n",
        "    vjp_param = None\n",
        "  else:\n",
        "    vjp = func.make_vjp(x, param)\n",
        "    vjp_x, vjp_param = vjp(u)\n",
        "  return vjp_x, vjp_param"
      ],
      "execution_count": null,
      "outputs": []
    },
    {
      "cell_type": "code",
      "metadata": {
        "id": "W-ImE7wiz295"
      },
      "source": [
        "def reverse_diff_chain(x, funcs, params):\n",
        "  \"\"\"\n",
        "  Reverse-mode differentiation of a chain of computations.\n",
        "\n",
        "  Args:\n",
        "    x: initial input to the chain.\n",
        "    funcs: a list of functions of the form func(x) or func(x, param).\n",
        "    params: a list of parameters, with len(params) = len(funcs).\n",
        "            If a function doesn't have parameters, use None.\n",
        "\n",
        "  Returns:\n",
        "    value, Jacobian w.r.t. x\n",
        "  \"\"\"\n",
        "  # Evaluate the feedforward model and store intermediate computations,\n",
        "  # as they will be needed during the backward pass.\n",
        "  xs = evaluate_chain(x, funcs, params, return_all=True)\n",
        "  m = xs[-1].shape[0]  # Output size\n",
        "  K = len(funcs)  # Number of functions.\n",
        "\n",
        "  # We need a list as the shape of U can change.\n",
        "  U = list(np.eye(m))\n",
        "\n",
        "  for k in reversed(range(K)):\n",
        "\n",
        "    for i in range(m):\n",
        "      vjp_x, vjp_param = call_vjp(xs[k], funcs[k], params[k], U[i])\n",
        "      U[i] = vjp_x\n",
        "\n",
        "  return xs[-1], np.array(U)"
      ],
      "execution_count": null,
      "outputs": []
    },
    {
      "cell_type": "code",
      "metadata": {
        "colab": {
          "base_uri": "https://localhost:8080/"
        },
        "id": "grSaHXn1zz2c",
        "outputId": "39cf3b05-0188-4568-f942-925c7fd4206e"
      },
      "source": [
        "value, jac = reverse_diff_chain(x, funcs, params)\n",
        "print(jac)\n",
        "print(value)"
      ],
      "execution_count": null,
      "outputs": [
        {
          "output_type": "stream",
          "name": "stdout",
          "text": [
            "[[ 0.01112579 -0.00291498]]\n",
            "[[0.91622488]]\n"
          ]
        }
      ]
    },
    {
      "cell_type": "code",
      "metadata": {
        "colab": {
          "base_uri": "https://localhost:8080/"
        },
        "id": "N0ZHnuwXqB2Y",
        "outputId": "768f02d3-340a-47aa-8c98-7856e5d527c1"
      },
      "source": [
        "# Check correctness of Jacobian using `num_jacobian`.\n",
        "def f(x):\n",
        "  return evaluate_chain(x, funcs, params)\n",
        "# # num_jacobian only accepts functions of one argument.\n",
        "num_jac = num_jacobian(f, x)\n",
        "value_test, jac_test = reverse_diff_chain(x, funcs, params)\n",
        "print(num_jac)\n",
        "print(jac_test)\n",
        "print(value_test)\n"
      ],
      "execution_count": null,
      "outputs": [
        {
          "output_type": "stream",
          "name": "stdout",
          "text": [
            "[[[ 0.01112579 -0.00291498]]]\n",
            "[[ 0.01112579 -0.00291498]]\n",
            "[[0.91622488]]\n"
          ]
        }
      ]
    },
    {
      "cell_type": "markdown",
      "metadata": {
        "id": "8fvXX-HaVz4Y"
      },
      "source": [
        "#### **Exercise 4**\n",
        "\n",
        "Modify the above function to also return the Jacobians w.r.t. W1, W3, W5. Check correctness using `num_jacobian`."
      ]
    },
    {
      "cell_type": "code",
      "metadata": {
        "id": "WdORIm-dknVH"
      },
      "source": [
        "def reverse_diff_chain_2(x, funcs, params):\n",
        "  \"\"\"\n",
        "  Reverse-mode differentiation of a chain of computations.\n",
        "\n",
        "  Args:\n",
        "    x: initial input to the chain.\n",
        "    funcs: a list of functions of the form func(x) or func(x, param).\n",
        "    params: a list of parameters, with len(params) = len(funcs).\n",
        "            If a function doesn't have parameters, use None.\n",
        "\n",
        "  Returns:\n",
        "    value, Jacobian w.r.t. x, Jacobians w.r.t. params.\n",
        "  \"\"\"\n",
        "  # Evaluate the feedforward model and store intermediate computations,\n",
        "  # as they will be needed during the backward pass.\n",
        "  xs = evaluate_chain(x, funcs, params, return_all=True)\n",
        "\n",
        "  m = xs[-1].shape[0]  # Output size\n",
        "  K = len(funcs)  # Number of functions.\n",
        "\n",
        "  # We need a list as the shape of U can change.\n",
        "  U = list(np.eye(m))\n",
        "\n",
        "  # List that will contain the Jacobian of each function w.r.t. parameters.\n",
        "  J = [None] * K\n",
        "\n",
        "  for k in reversed(range(K)):\n",
        "    jac = []\n",
        "\n",
        "    for i in range(m):\n",
        "      vjp_x, vjp_param = call_vjp(xs[k], funcs[k], params[k], U[i])\n",
        "      jac.append(vjp_param)\n",
        "      U[i] = vjp_x\n",
        "\n",
        "    J[k] = np.array(jac)\n",
        "\n",
        "  return xs[-1], np.array(U), J"
      ],
      "execution_count": null,
      "outputs": []
    },
    {
      "cell_type": "code",
      "metadata": {
        "colab": {
          "base_uri": "https://localhost:8080/"
        },
        "id": "fMsjIzq21mIh",
        "outputId": "31cdaf64-8e6a-4da4-f7e8-de36b5c9a6c1"
      },
      "source": [
        "value, jac, W = reverse_diff_chain_2(x, funcs, params)\n",
        "print(jac)\n",
        "print(W)\n",
        "#print(value)"
      ],
      "execution_count": null,
      "outputs": [
        {
          "output_type": "stream",
          "name": "stdout",
          "text": [
            "[[ 0.01112579 -0.00291498]]\n",
            "[array([[[1.55960021e-04, 3.53779336e-05],\n",
            "        [1.78776313e-03, 4.05535758e-04],\n",
            "        [9.42492872e-03, 2.13794856e-03]]]), array([[8.84100871e-05, 1.01344109e-03, 5.34277157e-03]]), array([None], dtype=object), array([[[0.25020125, 0.24676603, 0.24846522]]]), array([[0.25030893]]), array([None], dtype=object), array([[-2.75702605]])]\n"
          ]
        }
      ]
    },
    {
      "cell_type": "markdown",
      "metadata": {
        "id": "l0w7wNG1cYDv"
      },
      "source": [
        "#### Exercise 5\n",
        "\n",
        "Validate preceding results with JAX framework"
      ]
    },
    {
      "cell_type": "code",
      "metadata": {
        "id": "Hsz0G4pRcb-F"
      },
      "source": [
        "import jax.numpy as jnp\n",
        "from jax import grad\n",
        "\n",
        "def jnp_sigmoid(x):\n",
        "    return 1 / (1 + jnp.exp(-x))\n",
        "\n",
        "# Computes our network's output\n",
        "def net(params, x):\n",
        "    w1, b1, w2, b2 = params\n",
        "    hidden = jnp.tanh(jnp.dot(w1, x) + b1)\n",
        "    return jnp_sigmoid(jnp.dot(w2, hidden) + b2)\n",
        "\n",
        "# Cross-entropy loss\n",
        "def loss(params, x, y):\n",
        "    out = net(params, x)\n",
        "    cross_entropy = -y * jnp.log(out) - (1 - y)*jnp.log(1 - out)\n",
        "    return cross_entropy[0]\n",
        "\n",
        "# compute loss gradient\n",
        "loss_grad = grad(loss)"
      ],
      "execution_count": null,
      "outputs": []
    },
    {
      "cell_type": "code",
      "metadata": {
        "colab": {
          "base_uri": "https://localhost:8080/"
        },
        "id": "kqXOc_TtqHYh",
        "outputId": "7aeed8f1-0d47-4ae0-e354-47a013722852"
      },
      "source": [
        "params_2=[jnp.array(W1),jnp.array(B1),jnp.array(W2),jnp.array(B2)]\n",
        "print(params)\n",
        "loss(params_2,jnp.array(x),jnp.array(y))"
      ],
      "execution_count": null,
      "outputs": [
        {
          "output_type": "stream",
          "name": "stdout",
          "text": [
            "[array([[ 1.76405235,  0.40015721],\n",
            "       [ 0.97873798,  2.2408932 ],\n",
            "       [ 1.86755799, -0.97727788]]), array([ 0.95008842, -0.15135721, -0.10321885]), None, array([[0.4105985 , 0.14404357, 1.45427351]]), 0.7610377251469934, None, 0.69]\n"
          ]
        },
        {
          "output_type": "execute_result",
          "data": {
            "text/plain": [
              "DeviceArray(0.91622484, dtype=float32)"
            ]
          },
          "metadata": {},
          "execution_count": 53
        }
      ]
    },
    {
      "cell_type": "code",
      "metadata": {
        "colab": {
          "base_uri": "https://localhost:8080/"
        },
        "id": "CUwkTpvqS5-2",
        "outputId": "6ae5bc3d-a0e6-4682-a4d7-17e9a942033f"
      },
      "source": [
        "W2"
      ],
      "execution_count": null,
      "outputs": [
        {
          "output_type": "execute_result",
          "data": {
            "text/plain": [
              "array([[0.4105985 , 0.14404357, 1.45427351]])"
            ]
          },
          "metadata": {},
          "execution_count": 57
        }
      ]
    },
    {
      "cell_type": "code",
      "metadata": {
        "colab": {
          "base_uri": "https://localhost:8080/"
        },
        "id": "qG-NDvL9ShA6",
        "outputId": "6dee8bfd-5406-4551-abd1-451f6039be41"
      },
      "source": [
        "x"
      ],
      "execution_count": null,
      "outputs": [
        {
          "output_type": "execute_result",
          "data": {
            "text/plain": [
              "array([1.76405235, 0.40015721])"
            ]
          },
          "metadata": {},
          "execution_count": 61
        }
      ]
    },
    {
      "cell_type": "code",
      "metadata": {
        "colab": {
          "base_uri": "https://localhost:8080/"
        },
        "id": "z1iXPmPVqL5Q",
        "outputId": "54be0d83-7bb6-4ec1-a23d-8b890f279d9e"
      },
      "source": [
        "loss_grad(params_2,x,y)"
      ],
      "execution_count": null,
      "outputs": [
        {
          "output_type": "execute_result",
          "data": {
            "text/plain": [
              "[DeviceArray([[1.5599080e-04, 3.5384914e-05],\n",
              "              [1.7877583e-03, 4.0553467e-04],\n",
              "              [9.4249547e-03, 2.1379543e-03]], dtype=float32),\n",
              " DeviceArray([8.8427529e-05, 1.0134383e-03, 5.3427862e-03], dtype=float32),\n",
              " DeviceArray([[0.25020126, 0.24676608, 0.24846524]], dtype=float32),\n",
              " DeviceArray(0.25030896, dtype=float32, weak_type=True)]"
            ]
          },
          "metadata": {},
          "execution_count": 59
        }
      ]
    },
    {
      "cell_type": "markdown",
      "metadata": {
        "id": "JTgfB8h0ZLzi"
      },
      "source": [
        "## Training NNET"
      ]
    },
    {
      "cell_type": "markdown",
      "metadata": {
        "id": "MfWDRkMGZUcC"
      },
      "source": [
        "### Prepare dataset"
      ]
    },
    {
      "cell_type": "code",
      "metadata": {
        "id": "PuaoTE3hmbB0"
      },
      "source": [
        "import random\n",
        "import itertools"
      ],
      "execution_count": null,
      "outputs": []
    },
    {
      "cell_type": "markdown",
      "metadata": {
        "id": "gocVeXR4ZgUk"
      },
      "source": [
        "#### **Exercise 6** \n",
        "We propose to begin with the classic Moons simulated dataset, to have two input features and as target two possible classes. You may start with this dataset, but you have to either (a) simulate a new dataset, (b) load some appropriate data to use (any ML repository will do)."
      ]
    },
    {
      "cell_type": "code",
      "metadata": {
        "id": "5M0oPO_EZC2S"
      },
      "source": [
        "# some imports\n",
        "from sklearn.datasets import *\n",
        "import pandas as pd"
      ],
      "execution_count": null,
      "outputs": []
    },
    {
      "cell_type": "code",
      "metadata": {
        "id": "Kps8wjpNZa8y"
      },
      "source": [
        "# generate 2d classification dataset\n",
        "X, y = make_moons(n_samples=100, noise=0.1)"
      ],
      "execution_count": null,
      "outputs": []
    },
    {
      "cell_type": "code",
      "metadata": {
        "id": "v0-nbLpOZeW5",
        "colab": {
          "base_uri": "https://localhost:8080/",
          "height": 296
        },
        "outputId": "6e0cc9ee-1c75-458d-e311-a37a75ff93c9"
      },
      "source": [
        "# create proper dataframe with column names\n",
        "m = pd.DataFrame([X[:,0], X[:,1], y]).T\n",
        "m.columns = [\"X1\", \"X2\", \"Class\"]\n",
        "\n",
        "# nice plot\n",
        "col = m.Class.map({0:'b', 1:'r'})\n",
        "m.plot(x = \"X1\", y = \"X2\", kind = 'scatter', color = col)"
      ],
      "execution_count": null,
      "outputs": [
        {
          "output_type": "execute_result",
          "data": {
            "text/plain": [
              "<matplotlib.axes._subplots.AxesSubplot at 0x7f013efde6d0>"
            ]
          },
          "metadata": {},
          "execution_count": 65
        },
        {
          "output_type": "display_data",
          "data": {
            "text/plain": [
              "<Figure size 432x288 with 1 Axes>"
            ],
            "image/png": "[encoded data removed]"
          },
          "metadata": {
            "needs_background": "light"
          }
        }
      ]
    },
    {
      "cell_type": "markdown",
      "metadata": {
        "id": "-cF_VJRsf4cb"
      },
      "source": [
        "### Training"
      ]
    },
    {
      "cell_type": "markdown",
      "metadata": {
        "id": "IMvIuZ7fdNwF"
      },
      "source": [
        "#### **Exercise 7**\n",
        "\n",
        "Fill in the code below in order to train the neural network on the simulated training dataset. Take some time to think about different stopping criterions."
      ]
    },
    {
      "cell_type": "code",
      "metadata": {
        "id": "J9lMsvX0dERZ"
      },
      "source": [
        "# Sigmoid nonlinearity\n",
        "def sigmoid(x):\n",
        "    return 1 / (1 + jnp.exp(-x))\n",
        "\n",
        "# Computes our network's output\n",
        "def net(params, x):\n",
        "    w1, b1, w2, b2 = params\n",
        "    hidden = jnp.tanh(jnp.dot(w1, x) + b1)\n",
        "    return sigmoid(jnp.dot(w2, hidden) + b2)\n",
        "\n",
        "# Cross-entropy loss\n",
        "def loss(params, x, y):\n",
        "    out = net(params, x)\n",
        "    cross_entropy = -y * jnp.log(out) - (1 - y)*jnp.log(1 - out)\n",
        "    return cross_entropy\n",
        "\n",
        "def initial_params():\n",
        "    return [\n",
        "        np.random.randn(3, 2),  # w1\n",
        "        np.random.randn(3),  # b1\n",
        "        np.random.randn(3),  # w2\n",
        "        np.random.randn(),  #b2\n",
        "    ]"
      ],
      "execution_count": null,
      "outputs": []
    },
    {
      "cell_type": "code",
      "metadata": {
        "colab": {
          "base_uri": "https://localhost:8080/"
        },
        "id": "15Evy8M6mexu",
        "outputId": "d9608c99-4f61-449b-f91d-85613deccee2"
      },
      "source": [
        "# a very important line, performing the backpropagation\n",
        "loss_grad = grad(loss)\n",
        "\n",
        "# Stochastic gradient descent learning rate\n",
        "learning_rate = 1.\n",
        "# All possible inputs\n",
        "inputs = X\n",
        "\n",
        "# Initialize parameters randomly\n",
        "params = initial_params()\n",
        "\n",
        "params_historic = list()\n",
        "performance_historic = list()\n",
        "\n",
        "for n in itertools.count():\n",
        "    sel = np.random.choice(inputs.shape[0])\n",
        "    # Grab a single random input\n",
        "    x = inputs[sel]\n",
        "    # Compute the target output\n",
        "    yn = y[sel]\n",
        "    # Get the gradient of the loss for this input/output pair\n",
        "    grads = loss_grad(params, x, yn)\n",
        "    # Update parameters via gradient descent\n",
        "    params = [param - learning_rate * grad\n",
        "              for param, grad in zip(params, grads)]\n",
        "    params_historic.append(jnp.concatenate([par.flatten() for par in params], axis = 0))\n",
        "    # Every 100 iterations\n",
        "    if not n % 100:\n",
        "        print('Iteration {}'.format(n))\n",
        "        if n > 1000:\n",
        "            break"
      ],
      "execution_count": null,
      "outputs": [
        {
          "output_type": "stream",
          "name": "stdout",
          "text": [
            "Iteration 0\n",
            "Iteration 100\n",
            "Iteration 200\n",
            "Iteration 300\n",
            "Iteration 400\n",
            "Iteration 500\n",
            "Iteration 600\n",
            "Iteration 700\n",
            "Iteration 800\n",
            "Iteration 900\n",
            "Iteration 1000\n",
            "Iteration 1100\n"
          ]
        }
      ]
    },
    {
      "cell_type": "code",
      "metadata": {
        "colab": {
          "base_uri": "https://localhost:8080/"
        },
        "id": "xT48702Bo1RI",
        "outputId": "69309366-8a94-455e-a129-db0e1908a666"
      },
      "source": [
        "params"
      ],
      "execution_count": null,
      "outputs": [
        {
          "output_type": "execute_result",
          "data": {
            "text/plain": [
              "[DeviceArray([[ 6.94713  , -9.542796 ],\n",
              "              [-8.349721 ,  6.3398147],\n",
              "              [-4.738229 , -4.896372 ]], dtype=float32),\n",
              " DeviceArray([-7.0406027, -3.560456 ,  4.0782895], dtype=float32),\n",
              " DeviceArray([ 3.3921652, -4.914681 ,  3.9996457], dtype=float32),\n",
              " DeviceArray(-1.2477432, dtype=float32, weak_type=True)]"
            ]
          },
          "metadata": {},
          "execution_count": 68
        }
      ]
    },
    {
      "cell_type": "markdown",
      "metadata": {
        "id": "VLC0orSff-Ib"
      },
      "source": [
        "### Testing"
      ]
    },
    {
      "cell_type": "markdown",
      "metadata": {
        "id": "xFFTzXzTdNj6"
      },
      "source": [
        "#### **Exercise 8**\n",
        "\n",
        "Analyse the performance of the neural network (ideally on training & testing set) and the convergence of its parameters throughout iterations"
      ]
    },
    {
      "cell_type": "code",
      "metadata": {
        "id": "IzUeL6x6luqT",
        "colab": {
          "base_uri": "https://localhost:8080/"
        },
        "outputId": "42c4a7e4-4eea-45f2-8e54-79e9eef092a5"
      },
      "source": [
        "## performance analysis on testing set\n",
        "\n",
        "# compute predictions on test set\n",
        "X_TEST, y_TEST = make_moons(n_samples=1000, noise=0.1)\n",
        "y_PRED = [net(params,x).item() for x in X_TEST]\n",
        "\n",
        "# put in nice dataframe\n",
        "m = pd.DataFrame([y_TEST, y_PRED], index = [\"true\", \"pred\"]).T\n",
        "\n",
        "# confusion matrix for threshold 0.5\n",
        "print(pd.crosstab(index = m['pred']>0.5, columns = m['true']))\n",
        "\n",
        "# define accuracy function\n",
        "def compute_accuracy_for_threshold(threshold):\n",
        "  v1 = 1*(m['pred']>threshold)\n",
        "  return np.mean(v1 == m['true'])\n",
        "\n",
        "# get result\n",
        "thresh = np.linspace(start = 0, stop = 1, num = 50)\n",
        "res = [compute_accuracy_for_threshold(t) for t in thresh]"
      ],
      "execution_count": null,
      "outputs": [
        {
          "output_type": "stream",
          "name": "stdout",
          "text": [
            "true   0.0  1.0\n",
            "pred           \n",
            "False  491    7\n",
            "True     9  493\n"
          ]
        }
      ]
    },
    {
      "cell_type": "code",
      "metadata": {
        "colab": {
          "base_uri": "https://localhost:8080/",
          "height": 296
        },
        "id": "t_3DriUqmyUe",
        "outputId": "763cf9cf-5b74-4c6b-8b97-fb9e08310fb4"
      },
      "source": [
        "import matplotlib.pyplot as plt\n",
        "fig, ax = plt.subplots()\n",
        "plt.plot(thresh, res)\n",
        "ax.set_xlabel(\"Threshold level\")\n",
        "ax.set_ylabel(\"Accuracy\")\n",
        "ax.set_title(\"Accuracy level reached depending on the threshold level selected\")\n",
        "plt.show()"
      ],
      "execution_count": null,
      "outputs": [
        {
          "output_type": "display_data",
          "data": {
            "text/plain": [
              "<Figure size 432x288 with 1 Axes>"
            ],
            "image/png": "[encoded data removed]"
          },
          "metadata": {
            "needs_background": "light"
          }
        }
      ]
    },
    {
      "cell_type": "code",
      "metadata": {
        "id": "jB6t0SmalI8V",
        "colab": {
          "base_uri": "https://localhost:8080/",
          "height": 511
        },
        "outputId": "200b45f0-fb8c-4768-9bdd-0ca787313e1c"
      },
      "source": [
        "# stack historic parameters (see in training)\n",
        "test = jnp.stack(params_historic, axis = 0)\n",
        "\n",
        "# check shape (number of iterations x number of parameters)\n",
        "test.shape\n",
        "\n",
        "# format in dataframe\n",
        "test = pd.DataFrame(test)\n",
        "\n",
        "# plot convergence of parameters\n",
        "fig, ax = plt.subplots()\n",
        "ax.set_xlabel(\"Nb of iterations\")\n",
        "ax.set_ylabel(\"Parameter value\")\n",
        "ax.set_title(\"NNET Parameter value path throughout training\")\n",
        "plt.plot(test)"
      ],
      "execution_count": null,
      "outputs": [
        {
          "output_type": "execute_result",
          "data": {
            "text/plain": [
              "[<matplotlib.lines.Line2D at 0x7f01384b15d0>,\n",
              " <matplotlib.lines.Line2D at 0x7f01384b1810>,\n",
              " <matplotlib.lines.Line2D at 0x7f01384b19d0>,\n",
              " <matplotlib.lines.Line2D at 0x7f01384b1b90>,\n",
              " <matplotlib.lines.Line2D at 0x7f01384b1d50>,\n",
              " <matplotlib.lines.Line2D at 0x7f01384b1f10>,\n",
              " <matplotlib.lines.Line2D at 0x7f01384b7190>,\n",
              " <matplotlib.lines.Line2D at 0x7f01384b7350>,\n",
              " <matplotlib.lines.Line2D at 0x7f01384b1d10>,\n",
              " <matplotlib.lines.Line2D at 0x7f01384b1f50>,\n",
              " <matplotlib.lines.Line2D at 0x7f01384b1610>,\n",
              " <matplotlib.lines.Line2D at 0x7f01384b7990>,\n",
              " <matplotlib.lines.Line2D at 0x7f01384b7b50>]"
            ]
          },
          "metadata": {},
          "execution_count": 89
        },
        {
          "output_type": "display_data",
          "data": {
            "text/plain": [
              "<Figure size 432x288 with 1 Axes>"
            ],
            "image/png": "[encoded data removed]"
          },
          "metadata": {
            "needs_background": "light"
          }
        }
      ]
    },
    {
      "cell_type": "markdown",
      "metadata": {
        "id": "z5BYoZotgCNY"
      },
      "source": [
        "### Visualization"
      ]
    },
    {
      "cell_type": "markdown",
      "metadata": {
        "id": "x9e42pGSfRMc"
      },
      "source": [
        "#### **Exercise 9**\n",
        "\n",
        "Plot the decision boundary computed by the neural network"
      ]
    },
    {
      "cell_type": "code",
      "metadata": {
        "id": "gMUyKXp_ffnQ"
      },
      "source": [
        "# using np.meshgrid, plt.contourf, plt.scatter"
      ],
      "execution_count": null,
      "outputs": []
    },
    {
      "cell_type": "code",
      "metadata": {
        "id": "9FLav3o8lQ8Z",
        "colab": {
          "base_uri": "https://localhost:8080/"
        },
        "outputId": "aea31683-b73d-44c3-f9ed-7e2ef514d3dc"
      },
      "source": [
        "# create grid of (X1,X2)\n",
        "xx, yy = np.meshgrid(np.arange(X[:,0].min(), X[:,0].max(), 0.1), np.arange(X[:,1].min(), X[:,1].max(), 0.1))\n",
        "xx.shape\n",
        "yy.shape\n",
        "V = 0*xx\n",
        "V.shape"
      ],
      "execution_count": null,
      "outputs": [
        {
          "output_type": "execute_result",
          "data": {
            "text/plain": [
              "(19, 34)"
            ]
          },
          "metadata": {},
          "execution_count": 73
        }
      ]
    },
    {
      "cell_type": "code",
      "metadata": {
        "id": "K8TO6jKnlo2I"
      },
      "source": [
        "# compute predictions\n",
        "for i in range(xx.shape[0]):\n",
        "  for j in range(xx.shape[1]):\n",
        "    V[i,j] = net(params, jnp.array([xx[i,j],yy[i,j]]))"
      ],
      "execution_count": null,
      "outputs": []
    },
    {
      "cell_type": "code",
      "metadata": {
        "id": "uY9dLUfWlq1J",
        "colab": {
          "base_uri": "https://localhost:8080/",
          "height": 282
        },
        "outputId": "2be9099d-0eda-4aaf-fa40-a312e2e9a5cc"
      },
      "source": [
        "# plot nice things\n",
        "fig = plt.figure()\n",
        "plt.contourf(xx, yy, V, cmap=plt.cm.Spectral, alpha=0.8)\n",
        "plt.scatter(X[:, 0], X[:, 1], c=y, s=40, cmap=plt.cm.Spectral)\n",
        "plt.xlim(xx.min(), xx.max())\n",
        "plt.ylim(yy.min(), yy.max())"
      ],
      "execution_count": null,
      "outputs": [
        {
          "output_type": "execute_result",
          "data": {
            "text/plain": [
              "(-0.6689265244670692, 1.1310734755329304)"
            ]
          },
          "metadata": {},
          "execution_count": 75
        },
        {
          "output_type": "display_data",
          "data": {
            "text/plain": [
              "<Figure size 432x288 with 1 Axes>"
            ],
            "image/png": "[encoded data removed]"
          },
          "metadata": {
            "needs_background": "light"
          }
        }
      ]
    },
    {
      "cell_type": "markdown",
      "metadata": {
        "id": "a5dULJF8dODG"
      },
      "source": [
        "#### **Exercise 10**\n",
        "\n",
        "Using GraphViz to represent YOUR neural network"
      ]
    },
    {
      "cell_type": "code",
      "metadata": {
        "id": "P2SwoB-3cxee",
        "colab": {
          "base_uri": "https://localhost:8080/",
          "height": 297
        },
        "outputId": "d18450ea-284a-4f35-cc55-8ec51a9c71dd"
      },
      "source": [
        "from graphviz import Digraph\n",
        "\n",
        "\n",
        "def f(x):\n",
        "  return ('(' + str(round(x, 1)) + ')')\n",
        " \n",
        "dot = Digraph(comment='The Round Table')\n",
        "dot.attr(rankdir='LR')\n",
        "\n",
        "# inputs\n",
        "dot.node('X1', 'Input 1\\nX1')\n",
        "dot.node('X2', 'Input 2\\nX2')\n",
        "\n",
        "# hidden layer\n",
        "dot.node('N11', 'Neuron N[11]\\n sigmoid(' + f(params[1][0]) + ' + ' + f(params[0][0,0]) + ' * X1 + ' + f(params[0][0,1]) + ' * X2)')\n",
        "dot.node('N12', 'Neuron N[12]\\n sigmoid(' + f(params[1][1]) + ' + ' + f(params[0][1,0]) + ' * X1 + ' + f(params[0][1,1]) + ' * X2)')\n",
        "dot.node('N13', 'Neuron N[13]\\n sigmoid(' + f(params[1][2]) + ' + ' + f(params[0][2,0]) + ' * X1 + ' + f(params[0][2,1]) + ' * X2)')\n",
        "\n",
        "# edges between inputs and hidden layer\n",
        "dot.edge('X1', 'N11')\n",
        "dot.edge('X1', 'N12')\n",
        "dot.edge('X1', 'N13')\n",
        "dot.edge('X2', 'N11')\n",
        "dot.edge('X2', 'N12')\n",
        "dot.edge('X2', 'N13')\n",
        "\n",
        "# output\n",
        "dot.node('O', 'Y^\\n sigmoid(' + f(params[3]) + ' + ' + f(params[2][0]) + ' * N[11] \\n+ ' + f(params[2][1]) + ' * N[12] + ' + f(params[2][2]) + ' * N[13])')\n",
        "\n",
        "# edges between hidden layer and output\n",
        "dot.edge('N11', 'O')\n",
        "dot.edge('N12', 'O')\n",
        "dot.edge('N13', 'O')\n",
        "\n",
        "#\n",
        "dot"
      ],
      "execution_count": null,
      "outputs": [
        {
          "output_type": "execute_result",
          "data": {
            "text/plain": [
              "<graphviz.dot.Digraph at 0x7f013bd5b8d0>"
            ],
            "image/svg+xml": "<?xml version=\"1.0\" encoding=\"UTF-8\" standalone=\"no\"?>\n<!DOCTYPE svg PUBLIC \"-//W3C//DTD SVG 1.1//EN\"\n \"http://www.w3.org/Graphics/SVG/1.1/DTD/svg11.dtd\">\n<!-- Generated by graphviz version 2.40.1 (20161225.0304)\n -->\n<!-- Title: %3 Pages: 1 -->\n<svg width=\"897pt\" height=\"206pt\"\n viewBox=\"0.00 0.00 897.42 205.74\" xmlns=\"http://www.w3.org/2000/svg\" xmlns:xlink=\"http://www.w3.org/1999/xlink\">\n<g id=\"graph0\" class=\"graph\" transform=\"scale(1 1) rotate(0) translate(4 201.7401)\">\n<title>%3</title>\n<polygon fill=\"#ffffff\" stroke=\"transparent\" points=\"-4,4 -4,-201.7401 893.4154,-201.7401 893.4154,4 -4,4\"/>\n<!-- X1 -->\n<g id=\"node1\" class=\"node\">\n<title>X1</title>\n<ellipse fill=\"none\" stroke=\"#000000\" cx=\"41.7193\" cy=\"-134.8701\" rx=\"41.9398\" ry=\"26.7407\"/>\n<text text-anchor=\"middle\" x=\"41.7193\" y=\"-138.6701\" font-family=\"Times,serif\" font-size=\"14.00\" fill=\"#000000\">Input 1</text>\n<text text-anchor=\"middle\" x=\"41.7193\" y=\"-123.6701\" font-family=\"Times,serif\" font-size=\"14.00\" fill=\"#000000\">X1</text>\n</g>\n<!-- N11 -->\n<g id=\"node3\" class=\"node\">\n<title>N11</title>\n<ellipse fill=\"none\" stroke=\"#000000\" cx=\"339.3488\" cy=\"-170.8701\" rx=\"188.1809\" ry=\"26.7407\"/>\n<text text-anchor=\"middle\" x=\"339.3488\" y=\"-174.6701\" font-family=\"Times,serif\" font-size=\"14.00\" fill=\"#000000\">Neuron N[11]</text>\n<text text-anchor=\"middle\" x=\"339.3488\" y=\"-159.6701\" font-family=\"Times,serif\" font-size=\"14.00\" fill=\"#000000\"> sigmoid((&#45;7.0) + (6.9) * X1 + (&#45;9.5) * X2)</text>\n</g>\n<!-- X1&#45;&gt;N11 -->\n<g id=\"edge1\" class=\"edge\">\n<title>X1&#45;&gt;N11</title>\n<path fill=\"none\" stroke=\"#000000\" d=\"M82.7909,-139.8379C109.9456,-143.1224 147.4164,-147.6547 185.3376,-152.2415\"/>\n<polygon fill=\"#000000\" stroke=\"#000000\" points=\"185.1595,-155.7454 195.5074,-153.4716 186.0001,-148.796 185.1595,-155.7454\"/>\n</g>\n<!-- N12 -->\n<g id=\"node4\" class=\"node\">\n<title>N12</title>\n<ellipse fill=\"none\" stroke=\"#000000\" cx=\"339.3488\" cy=\"-98.8701\" rx=\"219.8205\" ry=\"26.7407\"/>\n<text text-anchor=\"middle\" x=\"339.3488\" y=\"-102.6701\" font-family=\"Times,serif\" font-size=\"14.00\" fill=\"#000000\">Neuron N[12]</text>\n<text text-anchor=\"middle\" x=\"339.3488\" y=\"-87.6701\" font-family=\"Times,serif\" font-size=\"14.00\" fill=\"#000000\"> sigmoid((&#45;3.6000001) + (&#45;8.3) * X1 + (6.3) * X2)</text>\n</g>\n<!-- X1&#45;&gt;N12 -->\n<g id=\"edge2\" class=\"edge\">\n<title>X1&#45;&gt;N12</title>\n<path fill=\"none\" stroke=\"#000000\" d=\"M82.7909,-129.9022C106.9569,-126.9792 139.2929,-123.068 172.8457,-119.0096\"/>\n<polygon fill=\"#000000\" stroke=\"#000000\" points=\"173.3035,-122.4798 182.8108,-117.8042 172.4629,-115.5304 173.3035,-122.4798\"/>\n</g>\n<!-- N13 -->\n<g id=\"node5\" class=\"node\">\n<title>N13</title>\n<ellipse fill=\"none\" stroke=\"#000000\" cx=\"339.3488\" cy=\"-26.8701\" rx=\"219.8205\" ry=\"26.7407\"/>\n<text text-anchor=\"middle\" x=\"339.3488\" y=\"-30.6701\" font-family=\"Times,serif\" font-size=\"14.00\" fill=\"#000000\">Neuron N[13]</text>\n<text text-anchor=\"middle\" x=\"339.3488\" y=\"-15.6701\" font-family=\"Times,serif\" font-size=\"14.00\" fill=\"#000000\"> sigmoid((4.1) + (&#45;4.7000003) * X1 + (&#45;4.9) * X2)</text>\n</g>\n<!-- X1&#45;&gt;N13 -->\n<g id=\"edge3\" class=\"edge\">\n<title>X1&#45;&gt;N13</title>\n<path fill=\"none\" stroke=\"#000000\" d=\"M67.1321,-113.4618C72.5783,-108.7297 78.2523,-103.6888 83.4386,-98.8701 100.0153,-83.4684 99.3041,-73.1949 119.4386,-62.8701 131.7656,-56.5488 144.9468,-51.2916 158.502,-46.9245\"/>\n<polygon fill=\"#000000\" stroke=\"#000000\" points=\"159.8856,-50.1618 168.4315,-43.8993 157.8455,-43.4657 159.8856,-50.1618\"/>\n</g>\n<!-- X2 -->\n<g id=\"node2\" class=\"node\">\n<title>X2</title>\n<ellipse fill=\"none\" stroke=\"#000000\" cx=\"41.7193\" cy=\"-62.8701\" rx=\"41.9398\" ry=\"26.7407\"/>\n<text text-anchor=\"middle\" x=\"41.7193\" y=\"-66.6701\" font-family=\"Times,serif\" font-size=\"14.00\" fill=\"#000000\">Input 2</text>\n<text text-anchor=\"middle\" x=\"41.7193\" y=\"-51.6701\" font-family=\"Times,serif\" font-size=\"14.00\" fill=\"#000000\">X2</text>\n</g>\n<!-- X2&#45;&gt;N11 -->\n<g id=\"edge4\" class=\"edge\">\n<title>X2&#45;&gt;N11</title>\n<path fill=\"none\" stroke=\"#000000\" d=\"M67.1321,-84.2784C72.5783,-89.0104 78.2523,-94.0514 83.4386,-98.8701 100.0153,-114.2717 99.3041,-124.5452 119.4386,-134.8701 135.0508,-142.8759 152.033,-149.175 169.4099,-154.1209\"/>\n<polygon fill=\"#000000\" stroke=\"#000000\" points=\"168.5319,-157.509 179.0982,-156.7316 170.3533,-150.7501 168.5319,-157.509\"/>\n</g>\n<!-- X2&#45;&gt;N12 -->\n<g id=\"edge5\" class=\"edge\">\n<title>X2&#45;&gt;N12</title>\n<path fill=\"none\" stroke=\"#000000\" d=\"M82.7909,-67.8379C106.9569,-70.7609 139.2929,-74.6721 172.8457,-78.7306\"/>\n<polygon fill=\"#000000\" stroke=\"#000000\" points=\"172.4629,-82.2097 182.8108,-79.9359 173.3035,-75.2603 172.4629,-82.2097\"/>\n</g>\n<!-- X2&#45;&gt;N13 -->\n<g id=\"edge6\" class=\"edge\">\n<title>X2&#45;&gt;N13</title>\n<path fill=\"none\" stroke=\"#000000\" d=\"M82.7909,-57.9022C106.9569,-54.9792 139.2929,-51.068 172.8457,-47.0096\"/>\n<polygon fill=\"#000000\" stroke=\"#000000\" points=\"173.3035,-50.4798 182.8108,-45.8042 172.4629,-43.5304 173.3035,-50.4798\"/>\n</g>\n<!-- O -->\n<g id=\"node6\" class=\"node\">\n<title>O</title>\n<ellipse fill=\"none\" stroke=\"#000000\" cx=\"742.3372\" cy=\"-98.8701\" rx=\"147.1565\" ry=\"37.4533\"/>\n<text text-anchor=\"middle\" x=\"742.3372\" y=\"-110.1701\" font-family=\"Times,serif\" font-size=\"14.00\" fill=\"#000000\">Y^</text>\n<text text-anchor=\"middle\" x=\"742.3372\" y=\"-95.1701\" font-family=\"Times,serif\" font-size=\"14.00\" fill=\"#000000\"> sigmoid((&#45;1.2) + (3.4) * N[11] </text>\n<text text-anchor=\"middle\" x=\"742.3372\" y=\"-80.1701\" font-family=\"Times,serif\" font-size=\"14.00\" fill=\"#000000\">+ (&#45;4.9) * N[12] + (4.0) * N[13])</text>\n</g>\n<!-- N11&#45;&gt;O -->\n<g id=\"edge7\" class=\"edge\">\n<title>N11&#45;&gt;O</title>\n<path fill=\"none\" stroke=\"#000000\" d=\"M465.6423,-150.9042C496.3128,-145.8599 528.9899,-140.3222 559.259,-134.8701 577.8553,-131.5204 597.4823,-127.8282 616.7048,-124.1234\"/>\n<polygon fill=\"#000000\" stroke=\"#000000\" points=\"617.5597,-127.5229 626.7125,-122.1866 616.2296,-120.6505 617.5597,-127.5229\"/>\n</g>\n<!-- N12&#45;&gt;O -->\n<g id=\"edge8\" class=\"edge\">\n<title>N12&#45;&gt;O</title>\n<path fill=\"none\" stroke=\"#000000\" d=\"M559.4145,-98.8701C567.9811,-98.8701 576.5027,-98.8701 584.9164,-98.8701\"/>\n<polygon fill=\"#000000\" stroke=\"#000000\" points=\"585.1216,-102.3702 595.1215,-98.8701 585.1215,-95.3702 585.1216,-102.3702\"/>\n</g>\n<!-- N13&#45;&gt;O -->\n<g id=\"edge9\" class=\"edge\">\n<title>N13&#45;&gt;O</title>\n<path fill=\"none\" stroke=\"#000000\" d=\"M473.7876,-48.1795C502.0486,-52.8548 531.6551,-57.898 559.259,-62.8701 577.8553,-66.2197 597.4823,-69.9119 616.7048,-73.6168\"/>\n<polygon fill=\"#000000\" stroke=\"#000000\" points=\"616.2296,-77.0897 626.7125,-75.5535 617.5597,-70.2172 616.2296,-77.0897\"/>\n</g>\n</g>\n</svg>\n"
          },
          "metadata": {},
          "execution_count": 76
        }
      ]
    }
  ]
}